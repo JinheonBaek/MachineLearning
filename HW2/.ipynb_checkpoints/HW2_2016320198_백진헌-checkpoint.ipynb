{
 "cells": [
  {
   "cell_type": "markdown",
   "metadata": {},
   "source": [
    "# HW2\n",
    "\n",
    "#### Machine Learning in Korea University\n",
    "#### COSE362, Fall 2018\n",
    "#### Due : 11/26 (TUE) 11:59 PM"
   ]
  },
  {
   "cell_type": "markdown",
   "metadata": {},
   "source": [
    "#### In this assignment, you will learn various classification methods with given datasets.\n",
    "* Implementation detail: Anaconda 5.3 with python 3.7\n",
    "* Use given dataset. Please do not change train / valid / test split.\n",
    "* Use numpy, scikit-learn, and matplotlib library\n",
    "* You don't have to use all imported packages below. (some are optional). <br>\n",
    "Also, you can import additional packages in \"(Option) Other Classifiers\" part. \n",
    "* <b>*DO NOT MODIFY OTHER PARTS OF CODES EXCEPT \"Your Code Here\"*</b>"
   ]
  },
  {
   "cell_type": "code",
   "execution_count": 1,
   "metadata": {},
   "outputs": [],
   "source": [
    "# Basic packages\n",
    "%matplotlib inline\n",
    "import numpy as np\n",
    "import pandas as pd\n",
    "import csv\n",
    "import matplotlib.pyplot as plt\n",
    "\n",
    "# Machine Learning Models\n",
    "from sklearn.preprocessing import LabelEncoder\n",
    "from sklearn.linear_model import LogisticRegression\n",
    "from sklearn.ensemble import RandomForestClassifier\n",
    "from sklearn.svm import SVC\n",
    "from sklearn.tree import DecisionTreeClassifier\n",
    "\n",
    "# Additional packages\n",
    "from sklearn.model_selection import cross_val_score\n",
    "from sklearn.metrics import f1_score"
   ]
  },
  {
   "cell_type": "code",
   "execution_count": 2,
   "metadata": {},
   "outputs": [],
   "source": [
    "# Import your own packages if you need(only in scikit-learn, numpy, pandas).\n",
    "# Your Code Here\n",
    "from sklearn.preprocessing import StandardScaler\n",
    "from sklearn.model_selection import train_test_split\n",
    "from sklearn.model_selection import KFold\n",
    "#End Your Code"
   ]
  },
  {
   "cell_type": "markdown",
   "metadata": {},
   "source": [
    "## Process\n",
    "\n",
    "> 1. Load \"train.csv\". It includes all samples' features and labels.\n",
    "> 2. Training four types of classifiers(logistic regression, decision tree, random forest, support vector machine) and <b>validate</b> it in your own way. <b>(You can't get full credit if you don't conduct validation)</b>\n",
    "> 3. Optionally, if you would train your own classifier(e.g. ensembling or gradient boosting), you can evaluate your own model on the development data. <br>\n",
    "> 4. <b>You should submit your predicted results on test data with the selected classifier in your own manner.</b>"
   ]
  },
  {
   "cell_type": "markdown",
   "metadata": {},
   "source": [
    "## Task & dataset description\n",
    "1. 6 Features (1~6)<br>\n",
    "Feature 2, 4, 6 : Real-valued<br>\n",
    "Feature 1, 3, 5 : Categorical <br>\n",
    "\n",
    "2. Samples <br>\n",
    ">In development set : 2,000 samples <br>\n",
    ">In test set : 1,500 samples"
   ]
  },
  {
   "cell_type": "markdown",
   "metadata": {},
   "source": [
    "## Load development dataset\n",
    "Load your development dataset. You should read <b>\"train.csv\"</b>. This is a classification task, and you need to preprocess your data for training your model. <br>\n",
    "> You need to use <b>1-of-K coding scheme</b>, to convert categorical features to one-hot vector. <br>\n",
    "> For example, if there are 3 categorical values, you can convert these features as [1,0,0], [0,1,0], [0,0,1] by 1-of-K coding scheme. <br>"
   ]
  },
  {
   "cell_type": "code",
   "execution_count": 3,
   "metadata": {},
   "outputs": [
    {
     "name": "stdout",
     "output_type": "stream",
     "text": [
      "--------------------------------------------------\n",
      "Plot class imbalance of train dataset\n"
     ]
    },
    {
     "data": {
      "image/png": "[encoded data removed]",
      "text/plain": [
       "<Figure size 432x288 with 1 Axes>"
      ]
     },
     "metadata": {},
     "output_type": "display_data"
    },
    {
     "name": "stdout",
     "output_type": "stream",
     "text": [
      "--------------------------------------------------\n",
      "Print shape of dex_X, dev_y, test_X, test_y\n",
      "(1600, 6) (1600,) (400, 6) (400,)\n",
      "--------------------------------------------------\n",
      "Print shape of dev_X_one_hot, test_X_one_hot\n",
      "(1600, 23) (400, 23)\n"
     ]
    }
   ],
   "source": [
    "# For training your model, you need to convert categorical features to one-hot encoding vectors.\n",
    "# Your Code Here\n",
    "\n",
    "## Import Dataset\n",
    "train = pd.read_csv('./data/train.csv')\n",
    "\n",
    "## Explore Class Imbalance\n",
    "target_count = {}\n",
    "\n",
    "for target in train.target.unique():\n",
    "    target_count[target] = len(train[train['target'] == target])\n",
    "    \n",
    "target_count_sorted = sorted(target_count.items(), key=lambda x: (-x[1], x[0]))\n",
    "\n",
    "print(\"-----\" * 10)\n",
    "print(\"Plot class imbalance of train dataset\")\n",
    "plt.plot([x for x in range(len(target_count_sorted))], [val[1] for val in target_count_sorted])\n",
    "plt.show()\n",
    "\n",
    "## Split dev & test\n",
    "dev, test = train_test_split(train, test_size = 0.2, random_state=42)\n",
    "\n",
    "## Split X and y on dev & test sets\n",
    "dev_X, dev_y = dev.drop(columns = ['target']), dev['target']\n",
    "test_X, test_y = test.drop(columns = ['target']), test['target']\n",
    "\n",
    "print(\"-----\" * 10)\n",
    "print(\"Print shape of dex_X, dev_y, test_X, test_y\")\n",
    "print(dev_X.shape, dev_y.shape, test_X.shape, test_y.shape)\n",
    "\n",
    "## One-hot encoding\n",
    "dev_X_one_hot = pd.get_dummies(dev_X)\n",
    "test_X_one_hot = pd.get_dummies(test_X)\n",
    "print(\"-----\" * 10)\n",
    "print(\"Print shape of dev_X_one_hot, test_X_one_hot\")\n",
    "print(dev_X_one_hot.shape, test_X_one_hot.shape)\n",
    "\n",
    "## Scaling\n",
    "sc = StandardScaler()\n",
    "dev_X_one_hot_std = pd.DataFrame(sc.fit_transform(dev_X_one_hot), index=dev_X_one_hot.index, columns=dev_X_one_hot.columns)\n",
    "test_X_one_hot_std = pd.DataFrame(sc.transform(test_X_one_hot), index=test_X_one_hot.index, columns=test_X_one_hot.columns)\n",
    "\n",
    "# End Your Code"
   ]
  },
  {
   "cell_type": "markdown",
   "metadata": {},
   "source": [
    "### Logistic Regression\n",
    "Train and validate your <b>logistic regression classifier</b>, and print out your validation(or cross-validation) error.\n",
    "> If you want, you can use cross validation, regularization, or feature selection methods. <br>\n",
    "> <b> You should use F1 score('macro' option) as evaluation metric. </b>"
   ]
  },
  {
   "cell_type": "code",
   "execution_count": 4,
   "metadata": {},
   "outputs": [
    {
     "name": "stderr",
     "output_type": "stream",
     "text": [
      "C:\\Users\\Jinhe\\Anaconda3\\lib\\site-packages\\sklearn\\metrics\\classification.py:1135: UndefinedMetricWarning: F-score is ill-defined and being set to 0.0 in labels with no predicted samples.\n",
      "  'precision', 'predicted', average, warn_for)\n",
      "C:\\Users\\Jinhe\\Anaconda3\\lib\\site-packages\\sklearn\\metrics\\classification.py:1137: UndefinedMetricWarning: F-score is ill-defined and being set to 0.0 in labels with no true samples.\n",
      "  'recall', 'true', average, warn_for)\n"
     ]
    },
    {
     "name": "stdout",
     "output_type": "stream",
     "text": [
      "Train F1 Score: [0.39674940759550553, 0.38449026518087565, 0.410730563822636, 0.38172170715035686] 0.39342298593734354\n",
      "Valid F1 Score: [0.2280561336658594, 0.23612400291462077, 0.19519072707368745, 0.23683446972433125] 0.22405133334462474\n",
      "Test F1 Score: 0.2716515459458847\n"
     ]
    }
   ],
   "source": [
    "# Training your logistic regression classifier, and print out your validation(or cross-validation) error.\n",
    "# Save your own model\n",
    "# Your Code Here\n",
    "\n",
    "## Define LogisticRegression Model\n",
    "### Derive model parameters using below validation codes\n",
    "### (Put parameters using greedy selection method and select best one)\n",
    "model = LogisticRegression(penalty='l2', C = 10)\n",
    "\n",
    "#####################################################################\n",
    "## Define cross validation using KFold method\n",
    "cv = KFold(n_splits=4, shuffle=True, random_state=42)\n",
    "\n",
    "## lists that hold error on cross validation\n",
    "train_error = []\n",
    "valid_error = []\n",
    "\n",
    "## Train & Valid Model using Cross Validation\n",
    "for train_index, valid_index in cv.split(dev_X_one_hot_std):\n",
    "    X_train, X_valid = dev_X_one_hot_std.iloc[train_index, :], dev_X_one_hot_std.iloc[valid_index, :]\n",
    "    y_train, y_valid = dev_y.iloc[train_index], dev_y.iloc[valid_index]\n",
    "    \n",
    "    model.fit(X_train, y_train)\n",
    "    train_error.append(f1_score(model.predict(X_train), y_train, average='macro'))\n",
    "    valid_error.append(f1_score(model.predict(X_valid), y_valid, average='macro'))        \n",
    "\n",
    "print(\"Train F1 Score:\", train_error, np.mean(train_error))\n",
    "print(\"Valid F1 Score:\", valid_error, np.mean(valid_error))\n",
    "\n",
    "## Report Test Error\n",
    "model.fit(dev_X_one_hot_std, dev_y)\n",
    "print(\"Test F1 Score:\", f1_score(model.predict(test_X_one_hot_std), test_y, average='macro'))\n",
    "#####################################################################\n",
    "    \n",
    "# End Your Code"
   ]
  },
  {
   "cell_type": "markdown",
   "metadata": {},
   "source": [
    "### Decision Tree\n",
    "Train and validate your <b>decision tree classifier</b>, and print out your validation(or cross-validation) error.\n",
    "> If you want, you can use cross validation, regularization, or feature selection methods. <br>\n",
    "> <b> You should use F1 score('macro' option) as evaluation metric. </b>"
   ]
  },
  {
   "cell_type": "code",
   "execution_count": 5,
   "metadata": {},
   "outputs": [
    {
     "name": "stdout",
     "output_type": "stream",
     "text": [
      "Train F1 Score: [1.0, 1.0, 1.0, 1.0] 1.0\n",
      "Valid F1 Score: [0.28257825339047793, 0.38417923806008114, 0.34245626189928396, 0.3311194025594257] 0.3350832889773172\n",
      "Test F1 Score: 0.44948801285320505\n"
     ]
    },
    {
     "name": "stderr",
     "output_type": "stream",
     "text": [
      "C:\\Users\\Jinhe\\Anaconda3\\lib\\site-packages\\sklearn\\metrics\\classification.py:1135: UndefinedMetricWarning: F-score is ill-defined and being set to 0.0 in labels with no predicted samples.\n",
      "  'precision', 'predicted', average, warn_for)\n",
      "C:\\Users\\Jinhe\\Anaconda3\\lib\\site-packages\\sklearn\\metrics\\classification.py:1137: UndefinedMetricWarning: F-score is ill-defined and being set to 0.0 in labels with no true samples.\n",
      "  'recall', 'true', average, warn_for)\n"
     ]
    }
   ],
   "source": [
    "# Training your decision tree classifier, and print out your validation(or cross-validation) error.\n",
    "# Save your own model\n",
    "# Your Code Here\n",
    "\n",
    "## Define Decision Tree Model\n",
    "### Derive model parameters using below validation codes\n",
    "### (Put parameters using greedy selection method and select best one)\n",
    "model = DecisionTreeClassifier(class_weight='balanced', random_state=42)\n",
    "\n",
    "#####################################################################\n",
    "## Define cross validation using KFold method\n",
    "cv = KFold(n_splits=4, shuffle=True, random_state=42)\n",
    "\n",
    "## lists that hold error on cross validation\n",
    "train_error = []\n",
    "valid_error = []\n",
    "\n",
    "## Train & Valid Model using Cross Validation\n",
    "for train_index, valid_index in cv.split(dev_X_one_hot_std):\n",
    "    X_train, X_valid = dev_X_one_hot_std.iloc[train_index, :], dev_X_one_hot_std.iloc[valid_index, :]\n",
    "    y_train, y_valid = dev_y.iloc[train_index], dev_y.iloc[valid_index]\n",
    "    \n",
    "    model.fit(X_train, y_train)\n",
    "    train_error.append(f1_score(model.predict(X_train), y_train, average='macro'))\n",
    "    valid_error.append(f1_score(model.predict(X_valid), y_valid, average='macro'))        \n",
    "\n",
    "print(\"Train F1 Score:\", train_error, np.mean(train_error))\n",
    "print(\"Valid F1 Score:\", valid_error, np.mean(valid_error))\n",
    "\n",
    "## Report Test Error\n",
    "model.fit(dev_X_one_hot_std, dev_y)\n",
    "print(\"Test F1 Score:\", f1_score(model.predict(test_X_one_hot_std), test_y, average='macro'))\n",
    "#####################################################################\n",
    "\n",
    "# End Your Code"
   ]
  },
  {
   "cell_type": "markdown",
   "metadata": {},
   "source": [
    "### Random Forest\n",
    "Train and validate your <b>random forest classifier</b>, and print out your validation(or cross-validation) error.\n",
    "> If you want, you can use cross validation, regularization, or feature selection methods. <br>\n",
    "> <b> You should use F1 score('macro' option) as evaluation metric. </b>"
   ]
  },
  {
   "cell_type": "code",
   "execution_count": 6,
   "metadata": {
    "scrolled": false
   },
   "outputs": [
    {
     "name": "stderr",
     "output_type": "stream",
     "text": [
      "C:\\Users\\Jinhe\\Anaconda3\\lib\\site-packages\\sklearn\\metrics\\classification.py:1135: UndefinedMetricWarning: F-score is ill-defined and being set to 0.0 in labels with no predicted samples.\n",
      "  'precision', 'predicted', average, warn_for)\n",
      "C:\\Users\\Jinhe\\Anaconda3\\lib\\site-packages\\sklearn\\metrics\\classification.py:1137: UndefinedMetricWarning: F-score is ill-defined and being set to 0.0 in labels with no true samples.\n",
      "  'recall', 'true', average, warn_for)\n",
      "C:\\Users\\Jinhe\\Anaconda3\\lib\\site-packages\\sklearn\\metrics\\classification.py:1137: UndefinedMetricWarning: F-score is ill-defined and being set to 0.0 in labels with no true samples.\n",
      "  'recall', 'true', average, warn_for)\n",
      "C:\\Users\\Jinhe\\Anaconda3\\lib\\site-packages\\sklearn\\metrics\\classification.py:1135: UndefinedMetricWarning: F-score is ill-defined and being set to 0.0 in labels with no predicted samples.\n",
      "  'precision', 'predicted', average, warn_for)\n",
      "C:\\Users\\Jinhe\\Anaconda3\\lib\\site-packages\\sklearn\\metrics\\classification.py:1135: UndefinedMetricWarning: F-score is ill-defined and being set to 0.0 in labels with no predicted samples.\n",
      "  'precision', 'predicted', average, warn_for)\n",
      "C:\\Users\\Jinhe\\Anaconda3\\lib\\site-packages\\sklearn\\metrics\\classification.py:1137: UndefinedMetricWarning: F-score is ill-defined and being set to 0.0 in labels with no true samples.\n",
      "  'recall', 'true', average, warn_for)\n"
     ]
    },
    {
     "name": "stdout",
     "output_type": "stream",
     "text": [
      "Train F1 Score: [1.0, 1.0, 1.0, 1.0] 1.0\n",
      "Valid F1 Score: [0.3402672430271573, 0.35753343093210904, 0.3926946599250871, 0.328536688789115] 0.3547580056683671\n",
      "Test F1 Score: 0.5171585701310437\n"
     ]
    },
    {
     "name": "stderr",
     "output_type": "stream",
     "text": [
      "C:\\Users\\Jinhe\\Anaconda3\\lib\\site-packages\\sklearn\\metrics\\classification.py:1135: UndefinedMetricWarning: F-score is ill-defined and being set to 0.0 in labels with no predicted samples.\n",
      "  'precision', 'predicted', average, warn_for)\n"
     ]
    }
   ],
   "source": [
    "# Training your random forest classifier, and print out your validation(or cross-validation) error.\n",
    "# Save your own model\n",
    "# Your Code Here\n",
    "\n",
    "## Define Random Forest Model\n",
    "### Derive model parameters using below validation codes\n",
    "### (Put parameters using greedy selection method and select best one)\n",
    "model = RandomForestClassifier(n_estimators=400, random_state=42)\n",
    "\n",
    "#####################################################################\n",
    "## Define cross validation using KFold method\n",
    "cv = KFold(n_splits=4, shuffle=True, random_state=42)\n",
    "\n",
    "## lists that hold error on cross validation\n",
    "train_error = []\n",
    "valid_error = []\n",
    "\n",
    "## Train & Valid Model using Cross Validation\n",
    "for train_index, valid_index in cv.split(dev_X_one_hot_std):\n",
    "    X_train, X_valid = dev_X_one_hot_std.iloc[train_index, :], dev_X_one_hot_std.iloc[valid_index, :]\n",
    "    y_train, y_valid = dev_y.iloc[train_index], dev_y.iloc[valid_index]\n",
    "    \n",
    "    model.fit(X_train, y_train)\n",
    "    train_error.append(f1_score(model.predict(X_train), y_train, average='macro'))\n",
    "    valid_error.append(f1_score(model.predict(X_valid), y_valid, average='macro'))        \n",
    "\n",
    "print(\"Train F1 Score:\", train_error, np.mean(train_error))\n",
    "print(\"Valid F1 Score:\", valid_error, np.mean(valid_error))\n",
    "\n",
    "## Report Test Error\n",
    "model.fit(dev_X_one_hot_std, dev_y)\n",
    "print(\"Test F1 Score:\", f1_score(model.predict(test_X_one_hot_std), test_y, average='macro'))\n",
    "#####################################################################\n",
    "\n",
    "# End Your Code"
   ]
  },
  {
   "cell_type": "markdown",
   "metadata": {},
   "source": [
    "### Support Vector Machine\n",
    "Train and validate your <b>support vector machine classifier</b>, and print out your validation(or cross-validation) error.\n",
    "> If you want, you can use cross validation, regularization, or feature selection methods. <br>\n",
    "> <b> You should use F1 score('macro' option) as evaluation metric. </b>"
   ]
  },
  {
   "cell_type": "code",
   "execution_count": 7,
   "metadata": {},
   "outputs": [
    {
     "name": "stderr",
     "output_type": "stream",
     "text": [
      "C:\\Users\\Jinhe\\Anaconda3\\lib\\site-packages\\sklearn\\metrics\\classification.py:1135: UndefinedMetricWarning: F-score is ill-defined and being set to 0.0 in labels with no predicted samples.\n",
      "  'precision', 'predicted', average, warn_for)\n",
      "C:\\Users\\Jinhe\\Anaconda3\\lib\\site-packages\\sklearn\\metrics\\classification.py:1137: UndefinedMetricWarning: F-score is ill-defined and being set to 0.0 in labels with no true samples.\n",
      "  'recall', 'true', average, warn_for)\n"
     ]
    },
    {
     "name": "stdout",
     "output_type": "stream",
     "text": [
      "Train F1 Score: [0.8399380782786866, 0.8466594757513687, 0.8272389248576366, 0.8000104796348766] 0.8284617396306421\n",
      "Valid F1 Score: [0.37493239303594816, 0.41042156407174796, 0.37905549903420693, 0.31854284363790797] 0.3707380749449528\n",
      "Test F1 Score: 0.40380827505740763\n"
     ]
    }
   ],
   "source": [
    "# Training your support vector machine classifier, and print out your validation(or cross-validation) error.\n",
    "# Save your own model\n",
    "# Your Code Here\n",
    "\n",
    "## Define SVC Model\n",
    "### Derive model parameters using below validation codes\n",
    "### (Put parameters using greedy selection method and select best one)\n",
    "model = SVC(C=100, gamma=0.01, random_state=42)\n",
    "\n",
    "#####################################################################\n",
    "## Define cross validation using KFold method\n",
    "cv = KFold(n_splits=4, shuffle=True, random_state=42)\n",
    "\n",
    "## lists that hold error on cross validation\n",
    "train_error = []\n",
    "valid_error = []\n",
    "\n",
    "## Train & Valid Model using Cross Validation\n",
    "for train_index, valid_index in cv.split(dev_X_one_hot_std):\n",
    "    X_train, X_valid = dev_X_one_hot_std.iloc[train_index, :], dev_X_one_hot_std.iloc[valid_index, :]\n",
    "    y_train, y_valid = dev_y.iloc[train_index], dev_y.iloc[valid_index]\n",
    "    \n",
    "    model.fit(X_train, y_train)\n",
    "    train_error.append(f1_score(model.predict(X_train), y_train, average='macro'))\n",
    "    valid_error.append(f1_score(model.predict(X_valid), y_valid, average='macro'))        \n",
    "\n",
    "print(\"Train F1 Score:\", train_error, np.mean(train_error))\n",
    "print(\"Valid F1 Score:\", valid_error, np.mean(valid_error))\n",
    "\n",
    "## Report Test Error\n",
    "model.fit(dev_X_one_hot_std, dev_y)\n",
    "print(\"Test F1 Score:\", f1_score(model.predict(test_X_one_hot_std), test_y, average='macro'))\n",
    "#####################################################################\n",
    "\n",
    "# End Your Code"
   ]
  },
  {
   "cell_type": "markdown",
   "metadata": {},
   "source": [
    "### (Option) Other Classifiers.\n",
    "Train and validate other classifiers by your own manner.\n",
    "> <b> If you need, you can import other models only in this cell, only in scikit-learn. </b>"
   ]
  },
  {
   "cell_type": "code",
   "execution_count": 8,
   "metadata": {},
   "outputs": [
    {
     "name": "stderr",
     "output_type": "stream",
     "text": [
      "C:\\Users\\Jinhe\\Anaconda3\\lib\\site-packages\\sklearn\\metrics\\classification.py:1135: UndefinedMetricWarning: F-score is ill-defined and being set to 0.0 in labels with no predicted samples.\n",
      "  'precision', 'predicted', average, warn_for)\n",
      "C:\\Users\\Jinhe\\Anaconda3\\lib\\site-packages\\sklearn\\metrics\\classification.py:1137: UndefinedMetricWarning: F-score is ill-defined and being set to 0.0 in labels with no true samples.\n",
      "  'recall', 'true', average, warn_for)\n"
     ]
    },
    {
     "name": "stdout",
     "output_type": "stream",
     "text": [
      "Train F1 Score: [0.9974053165703362, 0.9961638167623205, 0.9953008824496936, 0.9963410149747092] 0.9963027576892648\n",
      "Valid F1 Score: [0.39766907193869305, 0.3600243976713391, 0.36054648910955794, 0.4019046311187333] 0.38003614745958086\n",
      "Test F1 Score: 0.5700837403813704\n"
     ]
    }
   ],
   "source": [
    "# If you need additional packages, import your own packages below.\n",
    "# Your Code Here\n",
    "from sklearn.ensemble import GradientBoostingClassifier\n",
    "\n",
    "## Define Gradient Boosting Model\n",
    "## Derive model parameters using below validation codes\n",
    "model = GradientBoostingClassifier(n_estimators=400, random_state=42)\n",
    "\n",
    "#####################################################################\n",
    "## Define cross validation using KFold method\n",
    "## cv = ShuffleSplit(n_splits=4, test_size=0.25, random_state=42)\n",
    "cv = KFold(n_splits=4, shuffle=True, random_state=42)\n",
    "\n",
    "## lists that hold error on cross validation\n",
    "train_error = []\n",
    "valid_error = []\n",
    "\n",
    "## Train & Valid Model using Cross Validation\n",
    "for train_index, valid_index in cv.split(dev_X_one_hot_std):\n",
    "    X_train, X_valid = dev_X_one_hot_std.iloc[train_index, :], dev_X_one_hot_std.iloc[valid_index, :]\n",
    "    y_train, y_valid = dev_y.iloc[train_index], dev_y.iloc[valid_index]\n",
    "    \n",
    "    model.fit(X_train, y_train)\n",
    "    train_error.append(f1_score(model.predict(X_train), y_train, average='macro'))\n",
    "    valid_error.append(f1_score(model.predict(X_valid), y_valid, average='macro'))        \n",
    "\n",
    "print(\"Train F1 Score:\", train_error, np.mean(train_error))\n",
    "print(\"Valid F1 Score:\", valid_error, np.mean(valid_error))\n",
    "\n",
    "## Report Test Error\n",
    "model.fit(dev_X_one_hot_std, dev_y)\n",
    "print(\"Test F1 Score:\", f1_score(model.predict(test_X_one_hot_std), test_y, average='macro'))\n",
    "#####################################################################\n",
    "\n",
    "# End Your Code"
   ]
  },
  {
   "cell_type": "markdown",
   "metadata": {},
   "source": [
    "## Submit your prediction on the test data.\n",
    "\n",
    "* Select your model and explain it briefly.\n",
    "* You should read <b>\"test.csv\"</b>.\n",
    "* Prerdict your model in array form.\n",
    "* Prediction example <br>\n",
    "[2, 6, 14, 8, $\\cdots$]\n",
    "* We will rank your result by <b>F1 metric(with 'macro' option)</b>.\n",
    "* <b> If you don't submit prediction file or submit it in wrong format, you can't get the point for this part."
   ]
  },
  {
   "cell_type": "code",
   "execution_count": 9,
   "metadata": {},
   "outputs": [],
   "source": [
    "# Explain your final model"
   ]
  },
  {
   "cell_type": "markdown",
   "metadata": {},
   "source": [
    "전 Test data에 대한 final model로 <b>Gradient Boosting Classifier</b>을 선택하였습니다.\n",
    "\n",
    "Gradient Boosting은 Ensemble 기법 중 Boosting을 고도화 한 모델입니다.\n",
    "\n",
    "Gradient Boosting의 Hyper-parameter을 설정할 때는 적용해볼법한 parameter을 리스트화 한 다음,<br>greedy selection 으로 f1-score가 가장 높은 파라미터를 선택하였습니다.\n",
    "\n",
    "Gradient Boosting을 사용한 이유는 위에서 F1 score를 metric으로 계산하였을 때,\n",
    "1. Validation Set에 대한 F1 Score가 가장 높았기 때문이고,\n",
    "2. Report 목적으로 생성한 Test dataset에 대해서도 F1 score가 가장 높았기 때문입니다."
   ]
  },
  {
   "cell_type": "code",
   "execution_count": 10,
   "metadata": {},
   "outputs": [
    {
     "name": "stdout",
     "output_type": "stream",
     "text": [
      "--------------------------------------------------\n",
      "Print shape of train_X_one_hot, train_y, test_X_one_hot\n",
      "(2000, 23) (2000,) (1500, 23)\n"
     ]
    }
   ],
   "source": [
    "# Load test dataset.\n",
    "# Your Code Here\n",
    "\n",
    "## Import train & test Dataset\n",
    "train = pd.read_csv('./data/train.csv')\n",
    "test_X = pd.read_csv('./data/test.csv')\n",
    "\n",
    "## Split X and y on train dataset\n",
    "train_X, train_y = train.drop(columns = ['target']), train['target']\n",
    "\n",
    "## One-hot encoding\n",
    "train_X_one_hot = pd.get_dummies(train_X)\n",
    "test_X_one_hot = pd.get_dummies(test_X)\n",
    "print(\"-----\" * 10)\n",
    "print(\"Print shape of train_X_one_hot, train_y, test_X_one_hot\")\n",
    "print(train_X_one_hot.shape, train_y.shape, test_X_one_hot.shape)\n",
    "\n",
    "## Scaling\n",
    "sc = StandardScaler()\n",
    "train_X_one_hot_std = pd.DataFrame(sc.fit_transform(train_X_one_hot), index=train_X_one_hot.index, columns=train_X_one_hot.columns)\n",
    "test_X_one_hot_std = pd.DataFrame(sc.transform(test_X_one_hot), index=test_X_one_hot.index, columns=test_X_one_hot.columns)\n",
    "\n",
    "# End Your Code"
   ]
  },
  {
   "cell_type": "code",
   "execution_count": 11,
   "metadata": {},
   "outputs": [],
   "source": [
    "# Predict target class\n",
    "# Make variable \"my_answer\", type of array, and fill this array with your class predictions.\n",
    "# Modify file name into your student number and your name.\n",
    "# Your Code Here\n",
    "\n",
    "## Select Gradient Boosting Classifier (Optional Classifier)\n",
    "model = GradientBoostingClassifier(n_estimators=400, random_state=42)\n",
    "\n",
    "## Fit model and fill my_answer\n",
    "model.fit(train_X_one_hot_std, train_y)\n",
    "my_answer = model.predict(test_X_one_hot_std)\n",
    "\n",
    "file_name = \"HW2_2016320198_백진헌.csv\"\n",
    "# End Your Code"
   ]
  },
  {
   "cell_type": "code",
   "execution_count": 12,
   "metadata": {},
   "outputs": [],
   "source": [
    "# This section is for saving predicted answers. DO NOT MODIFY.\n",
    "pd.Series(my_answer).to_csv(\"./data/\" + file_name, header=None, index=None)"
   ]
  }
 ],
 "metadata": {
  "kernelspec": {
   "display_name": "Python 3",
   "language": "python",
   "name": "python3"
  },
  "language_info": {
   "codemirror_mode": {
    "name": "ipython",
    "version": 3
   },
   "file_extension": ".py",
   "mimetype": "text/x-python",
   "name": "python",
   "nbconvert_exporter": "python",
   "pygments_lexer": "ipython3",
   "version": "3.6.5"
  }
 },
 "nbformat": 4,
 "nbformat_minor": 2
}
